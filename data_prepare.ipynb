{
 "cells": [
  {
   "cell_type": "code",
   "execution_count": 1,
   "metadata": {},
   "outputs": [],
   "source": [
    "import os\n",
    "import re\n",
    "import pickle\n",
    "import collections\n",
    "import subprocess\n",
    "\n",
    "import numpy as np"
   ]
  },
  {
   "cell_type": "code",
   "execution_count": 2,
   "metadata": {},
   "outputs": [],
   "source": [
    "SEQ_LEN = 30"
   ]
  },
  {
   "cell_type": "markdown",
   "metadata": {},
   "source": [
    "# data loading"
   ]
  },
  {
   "cell_type": "code",
   "execution_count": 3,
   "metadata": {},
   "outputs": [],
   "source": [
    "def multi_sub(text, remove_list):\n",
    "    for rm in remove_list:\n",
    "        text = re.sub(rm, \"\", text)\n",
    "    return text"
   ]
  },
  {
   "cell_type": "code",
   "execution_count": 4,
   "metadata": {},
   "outputs": [],
   "source": [
    "neg_data = []\n",
    "with open(\"rt-polaritydata/rt-polarity.neg\", \"r\", encoding=\"latin-1\") as f:\n",
    "    for line in f.readlines():\n",
    "        line = re.sub(\"'s\", \" 's\", line)\n",
    "        line = re.sub(\" \\n\", \"\", line)\n",
    "        neg_data.append(line)"
   ]
  },
  {
   "cell_type": "code",
   "execution_count": 5,
   "metadata": {},
   "outputs": [],
   "source": [
    "pos_data = []\n",
    "with open(\"rt-polaritydata/rt-polarity.pos\", \"r\", encoding=\"latin-1\") as f:\n",
    "    for line in f.readlines():\n",
    "        line = re.sub(\"'s\", \" 's\", line)\n",
    "        line = re.sub(\" \\n\", \"\", line)\n",
    "        pos_data.append(line)"
   ]
  },
  {
   "cell_type": "code",
   "execution_count": 6,
   "metadata": {},
   "outputs": [
    {
     "name": "stdout",
     "output_type": "stream",
     "text": [
      "5331\n",
      "5331\n"
     ]
    }
   ],
   "source": [
    "print(len(neg_data))\n",
    "print(len(pos_data))"
   ]
  },
  {
   "cell_type": "code",
   "execution_count": 7,
   "metadata": {},
   "outputs": [],
   "source": [
    "raw_data = []\n",
    "label_data = []\n",
    "\n",
    "# train data, valid data, test data\n",
    "raw_data.append(neg_data[:-500] + pos_data[:-500])\n",
    "raw_data.append(neg_data[-500:-250] + pos_data[-500:-250])\n",
    "raw_data.append(neg_data[-250:] + pos_data[-250:])\n",
    "\n",
    "for i in range(3):\n",
    "    neg = [0 for _ in range(int(len(raw_data[i])/2))]\n",
    "    pos = [1 for _ in range(int(len(raw_data[i])/2))]\n",
    "    label_data.append(neg + pos)"
   ]
  },
  {
   "cell_type": "markdown",
   "metadata": {},
   "source": [
    "# Preprocessing"
   ]
  },
  {
   "cell_type": "code",
   "execution_count": 8,
   "metadata": {},
   "outputs": [],
   "source": [
    "def segmentation(inputlist):\n",
    "    outputlist = []\n",
    "    maxlen = 0\n",
    "    sumlen = 0\n",
    "    \n",
    "    for line in inputlist:\n",
    "        segmented_list = line.split(' ')\n",
    "        outputlist.append(segmented_list[:len(segmented_list)-1])\n",
    "        \n",
    "        sumlen += len(segmented_list)\n",
    "        if len(segmented_list) > maxlen:\n",
    "            maxlen = len(segmented_list)\n",
    "    f.close()\n",
    "    \n",
    "    print(\"MaxLen: %d\" % maxlen)\n",
    "    print(\"AveLen: %f\" % (sumlen/len(outputlist)))\n",
    "    \n",
    "    return outputlist"
   ]
  },
  {
   "cell_type": "code",
   "execution_count": 9,
   "metadata": {},
   "outputs": [],
   "source": [
    "def build_dictionary(segmentedlist, num_vocab, init_vocabdict={\"<PAD>\": 0, \"<UNK>\": 1, \"<GO>\": 2, \"<EOS>\": 3}):\n",
    "    counter = collections.Counter()\n",
    "    for i, wordlist in enumerate(segmentedlist):\n",
    "        counter.update(wordlist)\n",
    "    counter['EOS'] = 0\n",
    "    \n",
    "    vocablist = [vocab[0] for vocab in counter.most_common(num_vocab-len(init_vocabdict))]\n",
    "    vocab_dict = init_vocabdict\n",
    "    n = len(init_vocabdict)\n",
    "    \n",
    "    for i, vocab in enumerate(vocablist):\n",
    "        vocab_dict[vocab] = i+n\n",
    "    \n",
    "    return vocab_dict"
   ]
  },
  {
   "cell_type": "code",
   "execution_count": 10,
   "metadata": {},
   "outputs": [],
   "source": [
    "def words2ids(segmented_list, dictionary):\n",
    "    ids_list = []\n",
    "    for line in segmented_list:\n",
    "        tmp_list = []\n",
    "        for i in range(len(line)):\n",
    "            if line[i] in dictionary:\n",
    "                tmp_list.append(dictionary[line[i]])\n",
    "            else:\n",
    "                tmp_list.append(dictionary['<UNK>'])\n",
    "        ids_list.append(tmp_list)\n",
    "    \n",
    "    return ids_list"
   ]
  },
  {
   "cell_type": "code",
   "execution_count": 11,
   "metadata": {},
   "outputs": [],
   "source": [
    "def unk_rate(ids_list, unk):\n",
    "    full_size = 0\n",
    "    unk_count = 0\n",
    "    for line in ids_list:\n",
    "        full_size += len(line)\n",
    "        unk_count += line.count(unk) \n",
    "    \n",
    "    print(\"full size: %d\" % full_size)\n",
    "    print(\"unk_count: %d\" % unk_count)\n",
    "    print(\"unk_rate: %f\" % (unk_count/full_size))"
   ]
  },
  {
   "cell_type": "code",
   "execution_count": 12,
   "metadata": {},
   "outputs": [],
   "source": [
    "def fix_seqlen(ids_list, dictionary, seqlen):\n",
    "    fixed_list = [[dictionary[\"<PAD>\"] for _ in range(seqlen)] for _ in ids_list]\n",
    "    for i, line in enumerate(ids_list):\n",
    "        for j, idx in enumerate(line):\n",
    "            if j==seqlen: break\n",
    "            fixed_list[i][j] = line[j]\n",
    "        if len(line) < seqlen:\n",
    "            fixed_list[i][len(line)] = dictionary[\"<EOS>\"]\n",
    "        if i%10000 == 9999:\n",
    "            print(\"%d\" % (i+1))\n",
    "    \n",
    "    return fixed_list"
   ]
  },
  {
   "cell_type": "code",
   "execution_count": 13,
   "metadata": {},
   "outputs": [
    {
     "name": "stdout",
     "output_type": "stream",
     "text": [
      "MaxLen: 63\n",
      "AveLen: 21.369075\n",
      "MaxLen: 50\n",
      "AveLen: 21.550000\n",
      "MaxLen: 50\n",
      "AveLen: 21.436000\n"
     ]
    }
   ],
   "source": [
    "segmented_list = []\n",
    "for i in range(3):\n",
    "    tmp_list = segmentation(raw_data[i])\n",
    "    segmented_list.append(tmp_list)"
   ]
  },
  {
   "cell_type": "code",
   "execution_count": 14,
   "metadata": {},
   "outputs": [
    {
     "name": "stdout",
     "output_type": "stream",
     "text": [
      "9662\n",
      "500\n",
      "500\n"
     ]
    }
   ],
   "source": [
    "for i in range(3):\n",
    "    print(len(segmented_list[i]))"
   ]
  },
  {
   "cell_type": "code",
   "execution_count": 15,
   "metadata": {},
   "outputs": [],
   "source": [
    "full_text = segmented_list[0] + segmented_list[1] + segmented_list[2]\n",
    "dictionary = build_dictionary(full_text, 10000)"
   ]
  },
  {
   "cell_type": "code",
   "execution_count": 16,
   "metadata": {},
   "outputs": [
    {
     "data": {
      "text/plain": [
       "10000"
      ]
     },
     "execution_count": 16,
     "metadata": {},
     "output_type": "execute_result"
    }
   ],
   "source": [
    "len(dictionary)"
   ]
  },
  {
   "cell_type": "code",
   "execution_count": 17,
   "metadata": {},
   "outputs": [
    {
     "name": "stdout",
     "output_type": "stream",
     "text": [
      "9662\n",
      "500\n",
      "500\n"
     ]
    }
   ],
   "source": [
    "ids_mc = []\n",
    "for i in range(3):\n",
    "    ids_mc.append(words2ids(segmented_list[i], dictionary))\n",
    "    print(len(segmented_list[i]))"
   ]
  },
  {
   "cell_type": "code",
   "execution_count": 18,
   "metadata": {},
   "outputs": [
    {
     "name": "stdout",
     "output_type": "stream",
     "text": [
      "full size: 217299\n",
      "unk_count: 10989\n",
      "unk_rate: 0.050571\n"
     ]
    }
   ],
   "source": [
    "unk_rate(ids_mc[0] + ids_mc[1] + ids_mc[2], dictionary['<UNK>'])"
   ]
  },
  {
   "cell_type": "markdown",
   "metadata": {},
   "source": [
    "## fix length"
   ]
  },
  {
   "cell_type": "code",
   "execution_count": 19,
   "metadata": {},
   "outputs": [],
   "source": [
    "for i in range(3):\n",
    "    ids_mc[i] = fix_seqlen(ids_mc[i], dictionary, SEQ_LEN)"
   ]
  },
  {
   "cell_type": "code",
   "execution_count": 20,
   "metadata": {},
   "outputs": [],
   "source": [
    "filelist = [\"dataset/train.pkl\",\n",
    "            \"dataset/val.pkl\",\n",
    "            \"dataset/test.pkl\"]"
   ]
  },
  {
   "cell_type": "code",
   "execution_count": 21,
   "metadata": {},
   "outputs": [],
   "source": [
    "for i in range(3):\n",
    "    with open(filelist[i], \"wb\") as output:\n",
    "        pickle.dump(ids_mc[i], output, protocol=2)"
   ]
  },
  {
   "cell_type": "code",
   "execution_count": 22,
   "metadata": {},
   "outputs": [],
   "source": [
    "filelist = [\"dataset/train_label.pkl\",\n",
    "            \"dataset/val_label.pkl\",\n",
    "            \"dataset/test_label.pkl\"]"
   ]
  },
  {
   "cell_type": "code",
   "execution_count": 23,
   "metadata": {},
   "outputs": [],
   "source": [
    "for i in range(3):\n",
    "    with open(filelist[i], \"wb\") as output:\n",
    "        pickle.dump(label_data[i], output, protocol=2)"
   ]
  },
  {
   "cell_type": "code",
   "execution_count": 24,
   "metadata": {},
   "outputs": [],
   "source": [
    "dictfile = \"dataset/dictionary.pkl\"\n",
    "with open(dictfile, \"wb\") as output:\n",
    "    pickle.dump(dictionary, output, protocol=2)"
   ]
  }
 ],
 "metadata": {
  "kernelspec": {
   "display_name": "Python 3",
   "language": "python",
   "name": "python3"
  },
  "language_info": {
   "codemirror_mode": {
    "name": "ipython",
    "version": 3
   },
   "file_extension": ".py",
   "mimetype": "text/x-python",
   "name": "python",
   "nbconvert_exporter": "python",
   "pygments_lexer": "ipython3",
   "version": "3.6.2"
  }
 },
 "nbformat": 4,
 "nbformat_minor": 2
}
